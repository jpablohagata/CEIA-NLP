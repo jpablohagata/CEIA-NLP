{
 "cells": [
  {
   "cell_type": "markdown",
   "metadata": {
    "id": "vA7nqkumo9z9"
   },
   "source": [
    "### Objetivo\n",
    "El objetivo es utilizar documentos / corpus para crear embeddings de palabras basado en ese contexto. Se utilizará canciones de bandas para generar los embeddings, es decir, que los vectores tendrán la forma en función de como esa banda haya utilizado las palabras en sus canciones."
   ]
  },
  {
   "cell_type": "code",
   "execution_count": 1,
   "metadata": {},
   "outputs": [],
   "source": [
    "#!pip install pandas matplotlib seaborn gensim plotly\n",
    "#!pip install --upgrade numpy gensim\n",
    "#!pip install --upgrade nbformat\n",
    "#!pip install tensorflow\n",
    "#!pip install pymupdf"
   ]
  },
  {
   "cell_type": "code",
   "execution_count": 2,
   "metadata": {
    "id": "lFToQs5FK5uZ"
   },
   "outputs": [],
   "source": [
    "import pandas as pd\n",
    "import matplotlib.pyplot as plt\n",
    "import seaborn as sns\n",
    "import fitz\n",
    "\n",
    "import multiprocessing\n",
    "from gensim.models import Word2Vec"
   ]
  },
  {
   "cell_type": "markdown",
   "metadata": {
    "id": "g07zJxG7H9vG"
   },
   "source": [
    "### Datos\n",
    "Utilizaremos como dataset el libro de Romeo y Julieta."
   ]
  },
  {
   "cell_type": "code",
   "execution_count": 3,
   "metadata": {},
   "outputs": [],
   "source": [
    "# Función para leer el contenido de un archivo .pdf desde una página de inicio hasta una página de finalización\n",
    "def read_pdf(file_path, start_page, end_page):\n",
    "    doc = fitz.open(file_path)\n",
    "    content = []\n",
    "    \n",
    "    # Asegurarnos de que las páginas estén dentro de los límites válidos\n",
    "    start_page = max(start_page, 0)  # Página mínima: 0 (primera página)\n",
    "    end_page = min(end_page, doc.page_count - 1)  # Página máxima: la última página\n",
    "    \n",
    "    for page_num in range(start_page, end_page + 1):\n",
    "        page = doc.load_page(page_num)  # Cargar la página\n",
    "        content.append(page.get_text())  # Obtener el texto de la página\n",
    "    \n",
    "    return \"\\n\".join(content)\n"
   ]
  },
  {
   "cell_type": "code",
   "execution_count": 4,
   "metadata": {},
   "outputs": [
    {
     "name": "stdout",
     "output_type": "stream",
     "text": [
      "                  Texto\n",
      "0               ACTO I.\n",
      "1                     6\n",
      "2                      \n",
      "3       ESCENA PRIMERA.\n",
      "4  Una plaza de Verona.\n"
     ]
    }
   ],
   "source": [
    "# Leer el archivo .pdf desde una página de inicio hasta una página de finalización\n",
    "file_path = 'William_Shakespeare_-_Romeo_y_Julieta.pdf'\n",
    "start_page = 5  # Página de inicio\n",
    "end_page = 132   # Página de finalización\n",
    "\n",
    "text = read_pdf(file_path, start_page, end_page)\n",
    "\n",
    "# Dividir el texto en líneas y crear un DataFrame\n",
    "lines = text.split('\\n')\n",
    "df = pd.DataFrame(lines, columns=[\"Texto\"])\n",
    "\n",
    "# Mostrar las primeras filas del DataFrame\n",
    "print(df.head())"
   ]
  },
  {
   "cell_type": "code",
   "execution_count": 5,
   "metadata": {},
   "outputs": [
    {
     "name": "stdout",
     "output_type": "stream",
     "text": [
      "                                               Texto\n",
      "0                                            ACTO I.\n",
      "1                                    ESCENA PRIMERA.\n",
      "2                               Una plaza de Verona.\n",
      "3        SANSON y GREGORIO, con espadas y broqueles.\n",
      "4  A fe mia, Gregorio, que no hay por qué bajar l...\n"
     ]
    }
   ],
   "source": [
    "# Filtrar registros vacíos\n",
    "df = df[df['Texto'].str.strip().ne('')]\n",
    "\n",
    "# Filtrar registros que son solo números\n",
    "df = df[df['Texto'].str.isdigit() == False]\n",
    "\n",
    "# Filtrar registros que tienen solo una palabra (sin espacios)\n",
    "df = df[df['Texto'].str.split().str.len() > 1]\n",
    "\n",
    "# Eliminar el carácter \"º\" de todos los registros\n",
    "df['Texto'] = df['Texto'].str.replace('º', '', regex=False)\n",
    "\n",
    "# Reseteo el índice\n",
    "df = df.reset_index(drop=True)\n",
    "\n",
    "# Mostrar las primeras filas del DataFrame\n",
    "print(df.head())"
   ]
  },
  {
   "cell_type": "code",
   "execution_count": 6,
   "metadata": {
    "id": "LEpKubK9XzXN"
   },
   "outputs": [
    {
     "name": "stdout",
     "output_type": "stream",
     "text": [
      "Cantidad de documentos: 2095\n"
     ]
    }
   ],
   "source": [
    "print(\"Cantidad de documentos:\", df.shape[0])"
   ]
  },
  {
   "cell_type": "markdown",
   "metadata": {
    "id": "ab94qaFlrA1G"
   },
   "source": [
    "### 1 - Preprocesamiento"
   ]
  },
  {
   "cell_type": "code",
   "execution_count": 29,
   "metadata": {
    "id": "rIsmMWmjrDHd"
   },
   "outputs": [
    {
     "name": "stderr",
     "output_type": "stream",
     "text": [
      "/tmp/ipykernel_8939/793277113.py:7: FutureWarning:\n",
      "\n",
      "Series.__getitem__ treating keys as positions is deprecated. In a future version, integer keys will always be treated as labels (consistent with DataFrame behavior). To access a value by position, use `ser.iloc[pos]`\n",
      "\n"
     ]
    }
   ],
   "source": [
    "from tensorflow.keras.preprocessing.text import text_to_word_sequence\n",
    "\n",
    "sentence_tokens = []\n",
    "# Recorrer todas las filas y transformar las oraciones\n",
    "# en una secuencia de palabras (esto podría realizarse con NLTK o spaCy también)\n",
    "for _, row in df[:None].iterrows():\n",
    "    sentence_tokens.append(text_to_word_sequence(row[0]))"
   ]
  },
  {
   "cell_type": "code",
   "execution_count": 8,
   "metadata": {
    "id": "CHepi_DGrbhq"
   },
   "outputs": [
    {
     "data": {
      "text/plain": [
       "[['acto', 'i'],\n",
       " ['escena', 'primera'],\n",
       " ['una', 'plaza', 'de', 'verona'],\n",
       " ['sanson', 'y', 'gregorio', 'con', 'espadas', 'y', 'broqueles']]"
      ]
     },
     "execution_count": 8,
     "metadata": {},
     "output_type": "execute_result"
    }
   ],
   "source": [
    "# Demos un vistazo\n",
    "sentence_tokens[:4]"
   ]
  },
  {
   "cell_type": "markdown",
   "metadata": {
    "id": "BaXV6nlHr5Aa"
   },
   "source": [
    "### 2 - Crear los vectores (word2vec)"
   ]
  },
  {
   "cell_type": "code",
   "execution_count": 9,
   "metadata": {
    "id": "OSb0v7h8r7hK"
   },
   "outputs": [],
   "source": [
    "from gensim.models.callbacks import CallbackAny2Vec\n",
    "# Durante el entrenamiento gensim por defecto no informa el \"loss\" en cada época\n",
    "# Sobrecargamos el callback para poder tener esta información\n",
    "class callback(CallbackAny2Vec):\n",
    "    \"\"\"\n",
    "    Callback to print loss after each epoch\n",
    "    \"\"\"\n",
    "    def __init__(self):\n",
    "        self.epoch = 0\n",
    "\n",
    "    def on_epoch_end(self, model):\n",
    "        loss = model.get_latest_training_loss()\n",
    "        if self.epoch == 0:\n",
    "            print('Loss after epoch {}: {}'.format(self.epoch, loss))\n",
    "        else:\n",
    "            print('Loss after epoch {}: {}'.format(self.epoch, loss- self.loss_previous_step))\n",
    "        self.epoch += 1\n",
    "        self.loss_previous_step = loss"
   ]
  },
  {
   "cell_type": "code",
   "execution_count": 10,
   "metadata": {
    "id": "i0wnDdv9sJ47"
   },
   "outputs": [],
   "source": [
    "# Crearmos el modelo generador de vectores\n",
    "w2v_model = Word2Vec(min_count=5,       # frecuencia mínima de palabra para incluirla en el vocabulario\n",
    "                     window=2,          # cant de palabras antes y desp de la predicha\n",
    "                     #vector_size=300,   # dimensionalidad de los vectores \n",
    "                     vector_size=10,   # dimensionalidad de los vectores \n",
    "                     negative=20,       # cantidad de negative samples... 0 es no se usa\n",
    "                     workers=1,         # si tienen más cores pueden cambiar este valor\n",
    "                     sg=1)              # modelo 0:CBOW  1:skipgram\n",
    "\n",
    "\n",
    "# Acá le bajé la dimensionalidad a 10 (mayor a la raíz 4ta de las palabras del corpus) y no tuve cambios contra el caso de 300"
   ]
  },
  {
   "cell_type": "code",
   "execution_count": 11,
   "metadata": {
    "id": "5lTt8wErsf17"
   },
   "outputs": [],
   "source": [
    "# Obtener el vocabulario con los tokens\n",
    "w2v_model.build_vocab(sentence_tokens)"
   ]
  },
  {
   "cell_type": "code",
   "execution_count": 12,
   "metadata": {
    "id": "TNc9qt4os5AT"
   },
   "outputs": [
    {
     "name": "stdout",
     "output_type": "stream",
     "text": [
      "Cantidad de docs en el corpus: 2095\n"
     ]
    }
   ],
   "source": [
    "# Cantidad de filas/docs encontradas en el corpus\n",
    "print(\"Cantidad de docs en el corpus:\", w2v_model.corpus_count)"
   ]
  },
  {
   "cell_type": "code",
   "execution_count": 13,
   "metadata": {
    "id": "idw9cHF3tSMl"
   },
   "outputs": [
    {
     "name": "stdout",
     "output_type": "stream",
     "text": [
      "Cantidad de words distintas en el corpus: 552\n"
     ]
    }
   ],
   "source": [
    "# Cantidad de words encontradas en el corpus\n",
    "print(\"Cantidad de words distintas en el corpus:\", len(w2v_model.wv.index_to_key))"
   ]
  },
  {
   "cell_type": "markdown",
   "metadata": {
    "id": "fC9mZ8DPk-UC"
   },
   "source": [
    "### 3 - Entrenar embeddings"
   ]
  },
  {
   "cell_type": "code",
   "execution_count": 14,
   "metadata": {
    "id": "QSp-x0PAsq56"
   },
   "outputs": [
    {
     "name": "stdout",
     "output_type": "stream",
     "text": [
      "Loss after epoch 0: 142144.0\n",
      "Loss after epoch 1: 77909.859375\n",
      "Loss after epoch 2: 77676.515625\n",
      "Loss after epoch 3: 76870.65625\n",
      "Loss after epoch 4: 76063.46875\n",
      "Loss after epoch 5: 77645.9375\n",
      "Loss after epoch 6: 77674.0\n",
      "Loss after epoch 7: 77691.1875\n",
      "Loss after epoch 8: 77378.3125\n",
      "Loss after epoch 9: 77729.375\n",
      "Loss after epoch 10: 77351.3125\n",
      "Loss after epoch 11: 76879.0\n",
      "Loss after epoch 12: 75370.625\n",
      "Loss after epoch 13: 67659.625\n",
      "Loss after epoch 14: 66321.375\n",
      "Loss after epoch 15: 67882.25\n",
      "Loss after epoch 16: 67352.125\n",
      "Loss after epoch 17: 67269.875\n",
      "Loss after epoch 18: 67082.625\n",
      "Loss after epoch 19: 67428.25\n"
     ]
    },
    {
     "data": {
      "text/plain": [
       "(180246, 403120)"
      ]
     },
     "execution_count": 14,
     "metadata": {},
     "output_type": "execute_result"
    }
   ],
   "source": [
    "# Entrenamos el modelo generador de vectores\n",
    "# Utilizamos nuestro callback\n",
    "w2v_model.train(sentence_tokens,\n",
    "                 total_examples=w2v_model.corpus_count,\n",
    "                 epochs=20,\n",
    "                 compute_loss = True,\n",
    "                 callbacks=[callback()]\n",
    "                 )"
   ]
  },
  {
   "cell_type": "markdown",
   "metadata": {
    "id": "ddT9NVuNlCAe"
   },
   "source": [
    "### 4 - Ensayar"
   ]
  },
  {
   "cell_type": "code",
   "execution_count": 15,
   "metadata": {},
   "outputs": [],
   "source": [
    "vocabulario = list(w2v_model.wv.index_to_key)"
   ]
  },
  {
   "cell_type": "code",
   "execution_count": 16,
   "metadata": {
    "id": "6cHN9xGLuPEm"
   },
   "outputs": [
    {
     "data": {
      "text/plain": [
       "[('¡ay', 0.9874550104141235),\n",
       " ('dónde', 0.9758873581886292),\n",
       " ('mal', 0.9735255837440491),\n",
       " ('infame', 0.966683030128479),\n",
       " ('acuerdo', 0.9634206891059875),\n",
       " ('sangre', 0.9574002623558044),\n",
       " ('¡oh', 0.9561091065406799),\n",
       " ('¿te', 0.9560413956642151),\n",
       " ('viene', 0.9557097554206848),\n",
       " ('ciertamente', 0.9548540711402893)]"
      ]
     },
     "execution_count": 16,
     "metadata": {},
     "output_type": "execute_result"
    }
   ],
   "source": [
    "# Palabras que MÁS se relacionan con...:\n",
    "w2v_model.wv.most_similar(positive=[\"julieta\"], topn=10)"
   ]
  },
  {
   "cell_type": "code",
   "execution_count": 17,
   "metadata": {
    "id": "DT4Rvno2mD65"
   },
   "outputs": [
    {
     "data": {
      "text/plain": [
       "[('muerto', 0.9612892270088196),\n",
       " ('teobaldo', 0.956717312335968),\n",
       " ('mató', 0.9565241932868958),\n",
       " ('vuelve', 0.9552223086357117),\n",
       " ('segun', 0.9509615898132324),\n",
       " ('igual', 0.9506431221961975),\n",
       " ('benvolio', 0.9494649767875671),\n",
       " ('tienes', 0.9489181637763977),\n",
       " ('habia', 0.9444577693939209),\n",
       " ('huye', 0.9440534114837646)]"
      ]
     },
     "execution_count": 17,
     "metadata": {},
     "output_type": "execute_result"
    }
   ],
   "source": [
    "# Palabras que MÁS se relacionan con...:\n",
    "w2v_model.wv.most_similar(positive=[\"romeo\"], topn=10)"
   ]
  },
  {
   "cell_type": "code",
   "execution_count": 18,
   "metadata": {
    "id": "XPLDPgzBmQXt"
   },
   "outputs": [
    {
     "data": {
      "text/plain": [
       "[('su', 0.8364455103874207),\n",
       " ('tu', 0.8237165808677673),\n",
       " ('entran', 0.7916458249092102),\n",
       " ('de', 0.7807651162147522),\n",
       " ('murió', 0.7633351683616638)]"
      ]
     },
     "execution_count": 18,
     "metadata": {},
     "output_type": "execute_result"
    }
   ],
   "source": [
    "# Palabras que MÁS se relacionan con...:\n",
    "w2v_model.wv.most_similar(positive=[\"capuleto\"], topn=5)"
   ]
  },
  {
   "cell_type": "code",
   "execution_count": 19,
   "metadata": {
    "id": "47HiU5gdkdMq"
   },
   "outputs": [
    {
     "data": {
      "text/plain": [
       "[('ni', -0.47430524230003357),\n",
       " ('1', -0.5072617530822754),\n",
       " ('fray', -0.536050021648407),\n",
       " ('ojos', -0.6054343581199646),\n",
       " ('músico', -0.605552613735199)]"
      ]
     },
     "execution_count": 19,
     "metadata": {},
     "output_type": "execute_result"
    }
   ],
   "source": [
    "# Palabras que MENOS se relacionan con...:\n",
    "w2v_model.wv.most_similar(negative=[\"julieta\"], topn=5)"
   ]
  },
  {
   "cell_type": "code",
   "execution_count": 20,
   "metadata": {},
   "outputs": [],
   "source": [
    "vector_romeo = w2v_model.wv.get_vector(\"romeo\")\n",
    "vector_julieta = w2v_model.wv.get_vector(\"julieta\")\n",
    "vector_montesco = w2v_model.wv.get_vector(\"montesco\")\n",
    "vector_capuleto = w2v_model.wv.get_vector(\"capuleto\")\n",
    "\n",
    "vector_resultado = vector_capuleto - vector_julieta + vector_romeo"
   ]
  },
  {
   "cell_type": "code",
   "execution_count": 21,
   "metadata": {},
   "outputs": [
    {
     "data": {
      "text/plain": [
       "[('capuleto', 0.9785167574882507),\n",
       " ('su', 0.8263970613479614),\n",
       " ('tu', 0.8174126148223877),\n",
       " ('de', 0.8054048418998718),\n",
       " ('entran', 0.765863299369812),\n",
       " ('murió', 0.7419558763504028),\n",
       " ('montesco', 0.7342888712882996),\n",
       " ('páris', 0.7310613393783569),\n",
       " ('tanto', 0.7308179140090942),\n",
       " ('romeo', 0.7272732853889465)]"
      ]
     },
     "execution_count": 21,
     "metadata": {},
     "output_type": "execute_result"
    }
   ],
   "source": [
    "w2v_model.wv.most_similar(vector_resultado)\n",
    "# Acá esperaba obtener \"montesco\" como primera opción, pero aparece recién en la 7ma posición"
   ]
  },
  {
   "cell_type": "code",
   "execution_count": 22,
   "metadata": {},
   "outputs": [
    {
     "data": {
      "text/plain": [
       "[('murió', 0.9579949975013733),\n",
       " ('¡ay', 0.9524285793304443),\n",
       " ('muerto', 0.9502136707305908),\n",
       " ('dónde', 0.9484080076217651),\n",
       " ('segun', 0.9462881088256836)]"
      ]
     },
     "execution_count": 22,
     "metadata": {},
     "output_type": "execute_result"
    }
   ],
   "source": [
    "# Palabras que MÁS se relacionan con...:\n",
    "w2v_model.wv.most_similar(positive=[\"montesco\"], topn=5)"
   ]
  },
  {
   "cell_type": "code",
   "execution_count": 31,
   "metadata": {},
   "outputs": [
    {
     "data": {
      "text/plain": [
       "0.91236556"
      ]
     },
     "execution_count": 31,
     "metadata": {},
     "output_type": "execute_result"
    }
   ],
   "source": [
    "# Similaridad de \"romeo\" y \"julieta\"\n",
    "w2v_model.wv.similarity('romeo', 'julieta')"
   ]
  },
  {
   "cell_type": "code",
   "execution_count": 24,
   "metadata": {},
   "outputs": [
    {
     "data": {
      "text/plain": [
       "0.74907213"
      ]
     },
     "execution_count": 24,
     "metadata": {},
     "output_type": "execute_result"
    }
   ],
   "source": [
    "# Similaridad de \"montesco\" y \"capuleto\"\n",
    "w2v_model.wv.similarity('montesco', 'capuleto')"
   ]
  },
  {
   "cell_type": "markdown",
   "metadata": {
    "id": "_g8UVWe6lFmh"
   },
   "source": [
    "### 5 - Visualizar agrupación de vectores"
   ]
  },
  {
   "cell_type": "code",
   "execution_count": 25,
   "metadata": {
    "id": "pDxEVXAivjr9"
   },
   "outputs": [],
   "source": [
    "from sklearn.decomposition import IncrementalPCA    \n",
    "from sklearn.manifold import TSNE                   \n",
    "import numpy as np                                  \n",
    "\n",
    "def reduce_dimensions(model, num_dimensions = 2 ):\n",
    "     \n",
    "    vectors = np.asarray(model.wv.vectors)\n",
    "    labels = np.asarray(model.wv.index_to_key)  \n",
    "\n",
    "    tsne = TSNE(n_components=num_dimensions, random_state=0)\n",
    "    vectors = tsne.fit_transform(vectors)\n",
    "\n",
    "    return vectors, labels"
   ]
  },
  {
   "cell_type": "code",
   "execution_count": 26,
   "metadata": {
    "id": "NCCXtDpcugmd"
   },
   "outputs": [
    {
     "data": {
      "application/vnd.plotly.v1+json": {
       "config": {
        "plotlyServerURL": "https://plot.ly"
       },
       "data": [
        {
         "hovertemplate": "x=%{x}<br>y=%{y}<br>text=%{text}<extra></extra>",
         "legendgroup": "",
         "marker": {
          "color": "#636efa",
          "symbol": "circle"
         },
         "mode": "markers+text",
         "name": "",
         "orientation": "v",
         "showlegend": false,
         "text": [
          "de",
          "que",
          "y",
          "la",
          "á",
          "el",
          "no",
          "en",
          "es",
          "mi",
          "con",
          "me",
          "por",
          "los",
          "un",
          "te",
          "su",
          "yo",
          "se",
          "si",
          "lo",
          "romeo",
          "las",
          "del",
          "tu",
          "más",
          "para",
          "una",
          "al",
          "como",
          "fray",
          "tan",
          "qué",
          "lorenzo",
          "pero",
          "amor",
          "ha",
          "ya",
          "le",
          "capuleto",
          "tú",
          "muerte",
          "julieta",
          "está",
          "mis",
          "señora",
          "esta",
          "teobaldo",
          "noche",
          "ni",
          "sus",
          "porque",
          "ó",
          "aquí",
          "¿y",
          "¿qué",
          "ama",
          "os",
          "ella",
          "dios",
          "mio",
          "sin",
          "cuando",
          "bien",
          "este",
          "he",
          "él",
          "tus",
          "sí",
          "mia",
          "páris",
          "pues",
          "ahora",
          "padre",
          "ese",
          "antes",
          "son",
          "todo",
          "casa",
          "eso",
          "voy",
          "quien",
          "mí",
          "dia",
          "ojos",
          "sólo",
          "esa",
          "¿por",
          "muerto",
          "criado",
          "nada",
          "nombre",
          "todos",
          "dos",
          "mismo",
          "tal",
          "escena",
          "hace",
          "1",
          "mercutio",
          "¡qué",
          "cómo",
          "hija",
          "montesco",
          "otro"
         ],
         "type": "scatter",
         "x": [
          9.419965744018555,
          4.297179222106934,
          9.851946830749512,
          -11.0263090133667,
          -17.534650802612305,
          14.112273216247559,
          -12.0314359664917,
          7.724440097808838,
          0.3246244490146637,
          17.470680236816406,
          9.750743865966797,
          -18.5574893951416,
          11.799246788024902,
          3.5549333095550537,
          11.753055572509766,
          -12.287102699279785,
          15.04367733001709,
          -6.071844100952148,
          -6.281120777130127,
          -15.067489624023438,
          -19.473875045776367,
          19.424753189086914,
          2.1264870166778564,
          2.2788474559783936,
          15.893627166748047,
          13.402589797973633,
          -11.960502624511719,
          -16.657596588134766,
          -2.946807622909546,
          6.929087162017822,
          9.756572723388672,
          9.981527328491211,
          6.922359466552734,
          12.705056190490723,
          13.68455982208252,
          7.77780818939209,
          -0.08033936470746994,
          -12.648370742797852,
          -18.649507522583008,
          15.494697570800781,
          -8.25430679321289,
          -19.619808197021484,
          -0.22688016295433044,
          17.925243377685547,
          6.386419296264648,
          18.759469985961914,
          -17.67197608947754,
          19.67939567565918,
          -20.193859100341797,
          -16.536542892456055,
          6.286718845367432,
          -15.356072425842285,
          -4.460597038269043,
          -14.218798637390137,
          1.8345485925674438,
          10.085443496704102,
          13.739910125732422,
          -18.114959716796875,
          -10.377727508544922,
          17.455257415771484,
          9.977770805358887,
          4.19956636428833,
          14.478275299072266,
          16.712890625,
          14.595995903015137,
          0.8330481648445129,
          6.726136207580566,
          6.359355926513672,
          12.225616455078125,
          9.852710723876953,
          10.731988906860352,
          16.120023727416992,
          -15.474328994750977,
          19.571388244628906,
          13.85538101196289,
          -16.056089401245117,
          3.361471176147461,
          14.67873477935791,
          18.39967918395996,
          8.809802055358887,
          -1.948317050933838,
          19.343339920043945,
          15.42408275604248,
          -1.8580836057662964,
          7.895329475402832,
          -18.020376205444336,
          -11.307140350341797,
          1.8269414901733398,
          18.945484161376953,
          18.34974479675293,
          -16.06637954711914,
          -5.067000865936279,
          3.725618839263916,
          5.259289264678955,
          -15.575456619262695,
          -9.925642967224121,
          16.743412017822266,
          -15.579350471496582,
          -2.5255300998687744,
          19.6829776763916,
          12.706497192382812,
          8.443321228027344,
          16.995254516601562,
          16.867467880249023,
          -7.4012885093688965
         ],
         "xaxis": "x",
         "y": [
          17.76270866394043,
          -8.689355850219727,
          16.175397872924805,
          13.34290885925293,
          7.202462196350098,
          14.775557518005371,
          -12.948793411254883,
          15.984938621520996,
          -15.489768981933594,
          15.514381408691406,
          16.113401412963867,
          -2.2966349124908447,
          7.118358135223389,
          23.98576545715332,
          -3.577648401260376,
          -14.50206184387207,
          15.619427680969238,
          -9.117263793945312,
          6.553451061248779,
          -12.406403541564941,
          -6.889526844024658,
          11.070938110351562,
          24.097692489624023,
          24.073762893676758,
          14.574267387390137,
          10.321916580200195,
          -9.982603073120117,
          9.886792182922363,
          20.667255401611328,
          16.445566177368164,
          20.41896629333496,
          -5.529659271240234,
          -20.89905548095703,
          21.608379364013672,
          -3.82784366607666,
          11.559019088745117,
          -3.821690082550049,
          -4.904358863830566,
          -2.033287286758423,
          16.265220642089844,
          -15.316115379333496,
          5.820149898529053,
          -18.045087814331055,
          15.530653953552246,
          22.59977149963379,
          3.664834499359131,
          10.282244682312012,
          12.28465461730957,
          6.074339389801025,
          14.676279067993164,
          22.475749969482422,
          -10.174443244934082,
          13.396230697631836,
          4.09419584274292,
          -22.164098739624023,
          -19.125097274780273,
          -16.444652557373047,
          -6.035734176635742,
          8.127667427062988,
          -6.761015892028809,
          -17.47137451171875,
          -7.450214862823486,
          -9.696746826171875,
          -6.565698623657227,
          -0.5069026350975037,
          -20.26250457763672,
          -0.7206015586853027,
          22.592519760131836,
          -5.840159893035889,
          -15.27527141571045,
          15.69512939453125,
          -7.731568813323975,
          -6.324941635131836,
          -2.784635066986084,
          14.121484756469727,
          5.905486583709717,
          21.027925491333008,
          -4.8348236083984375,
          4.804220199584961,
          -16.157133102416992,
          14.895066261291504,
          -1.9522634744644165,
          1.0098353624343872,
          -24.205137252807617,
          20.20346450805664,
          0.9218457937240601,
          -13.290315628051758,
          -22.209138870239258,
          11.591009140014648,
          -15.513915061950684,
          14.125849723815918,
          -22.487728118896484,
          19.985252380371094,
          -7.216320991516113,
          -4.064464569091797,
          -15.15188980102539,
          3.074951171875,
          9.907254219055176,
          24.147003173828125,
          12.904875755310059,
          -14.045811653137207,
          -19.44845962524414,
          -2.1490612030029297,
          9.259111404418945,
          -16.936880111694336
         ],
         "yaxis": "y"
        }
       ],
       "layout": {
        "legend": {
         "tracegroupgap": 0
        },
        "margin": {
         "t": 60
        },
        "template": {
         "data": {
          "bar": [
           {
            "error_x": {
             "color": "#2a3f5f"
            },
            "error_y": {
             "color": "#2a3f5f"
            },
            "marker": {
             "line": {
              "color": "#E5ECF6",
              "width": 0.5
             },
             "pattern": {
              "fillmode": "overlay",
              "size": 10,
              "solidity": 0.2
             }
            },
            "type": "bar"
           }
          ],
          "barpolar": [
           {
            "marker": {
             "line": {
              "color": "#E5ECF6",
              "width": 0.5
             },
             "pattern": {
              "fillmode": "overlay",
              "size": 10,
              "solidity": 0.2
             }
            },
            "type": "barpolar"
           }
          ],
          "carpet": [
           {
            "aaxis": {
             "endlinecolor": "#2a3f5f",
             "gridcolor": "white",
             "linecolor": "white",
             "minorgridcolor": "white",
             "startlinecolor": "#2a3f5f"
            },
            "baxis": {
             "endlinecolor": "#2a3f5f",
             "gridcolor": "white",
             "linecolor": "white",
             "minorgridcolor": "white",
             "startlinecolor": "#2a3f5f"
            },
            "type": "carpet"
           }
          ],
          "choropleth": [
           {
            "colorbar": {
             "outlinewidth": 0,
             "ticks": ""
            },
            "type": "choropleth"
           }
          ],
          "contour": [
           {
            "colorbar": {
             "outlinewidth": 0,
             "ticks": ""
            },
            "colorscale": [
             [
              0,
              "#0d0887"
             ],
             [
              0.1111111111111111,
              "#46039f"
             ],
             [
              0.2222222222222222,
              "#7201a8"
             ],
             [
              0.3333333333333333,
              "#9c179e"
             ],
             [
              0.4444444444444444,
              "#bd3786"
             ],
             [
              0.5555555555555556,
              "#d8576b"
             ],
             [
              0.6666666666666666,
              "#ed7953"
             ],
             [
              0.7777777777777778,
              "#fb9f3a"
             ],
             [
              0.8888888888888888,
              "#fdca26"
             ],
             [
              1,
              "#f0f921"
             ]
            ],
            "type": "contour"
           }
          ],
          "contourcarpet": [
           {
            "colorbar": {
             "outlinewidth": 0,
             "ticks": ""
            },
            "type": "contourcarpet"
           }
          ],
          "heatmap": [
           {
            "colorbar": {
             "outlinewidth": 0,
             "ticks": ""
            },
            "colorscale": [
             [
              0,
              "#0d0887"
             ],
             [
              0.1111111111111111,
              "#46039f"
             ],
             [
              0.2222222222222222,
              "#7201a8"
             ],
             [
              0.3333333333333333,
              "#9c179e"
             ],
             [
              0.4444444444444444,
              "#bd3786"
             ],
             [
              0.5555555555555556,
              "#d8576b"
             ],
             [
              0.6666666666666666,
              "#ed7953"
             ],
             [
              0.7777777777777778,
              "#fb9f3a"
             ],
             [
              0.8888888888888888,
              "#fdca26"
             ],
             [
              1,
              "#f0f921"
             ]
            ],
            "type": "heatmap"
           }
          ],
          "heatmapgl": [
           {
            "colorbar": {
             "outlinewidth": 0,
             "ticks": ""
            },
            "colorscale": [
             [
              0,
              "#0d0887"
             ],
             [
              0.1111111111111111,
              "#46039f"
             ],
             [
              0.2222222222222222,
              "#7201a8"
             ],
             [
              0.3333333333333333,
              "#9c179e"
             ],
             [
              0.4444444444444444,
              "#bd3786"
             ],
             [
              0.5555555555555556,
              "#d8576b"
             ],
             [
              0.6666666666666666,
              "#ed7953"
             ],
             [
              0.7777777777777778,
              "#fb9f3a"
             ],
             [
              0.8888888888888888,
              "#fdca26"
             ],
             [
              1,
              "#f0f921"
             ]
            ],
            "type": "heatmapgl"
           }
          ],
          "histogram": [
           {
            "marker": {
             "pattern": {
              "fillmode": "overlay",
              "size": 10,
              "solidity": 0.2
             }
            },
            "type": "histogram"
           }
          ],
          "histogram2d": [
           {
            "colorbar": {
             "outlinewidth": 0,
             "ticks": ""
            },
            "colorscale": [
             [
              0,
              "#0d0887"
             ],
             [
              0.1111111111111111,
              "#46039f"
             ],
             [
              0.2222222222222222,
              "#7201a8"
             ],
             [
              0.3333333333333333,
              "#9c179e"
             ],
             [
              0.4444444444444444,
              "#bd3786"
             ],
             [
              0.5555555555555556,
              "#d8576b"
             ],
             [
              0.6666666666666666,
              "#ed7953"
             ],
             [
              0.7777777777777778,
              "#fb9f3a"
             ],
             [
              0.8888888888888888,
              "#fdca26"
             ],
             [
              1,
              "#f0f921"
             ]
            ],
            "type": "histogram2d"
           }
          ],
          "histogram2dcontour": [
           {
            "colorbar": {
             "outlinewidth": 0,
             "ticks": ""
            },
            "colorscale": [
             [
              0,
              "#0d0887"
             ],
             [
              0.1111111111111111,
              "#46039f"
             ],
             [
              0.2222222222222222,
              "#7201a8"
             ],
             [
              0.3333333333333333,
              "#9c179e"
             ],
             [
              0.4444444444444444,
              "#bd3786"
             ],
             [
              0.5555555555555556,
              "#d8576b"
             ],
             [
              0.6666666666666666,
              "#ed7953"
             ],
             [
              0.7777777777777778,
              "#fb9f3a"
             ],
             [
              0.8888888888888888,
              "#fdca26"
             ],
             [
              1,
              "#f0f921"
             ]
            ],
            "type": "histogram2dcontour"
           }
          ],
          "mesh3d": [
           {
            "colorbar": {
             "outlinewidth": 0,
             "ticks": ""
            },
            "type": "mesh3d"
           }
          ],
          "parcoords": [
           {
            "line": {
             "colorbar": {
              "outlinewidth": 0,
              "ticks": ""
             }
            },
            "type": "parcoords"
           }
          ],
          "pie": [
           {
            "automargin": true,
            "type": "pie"
           }
          ],
          "scatter": [
           {
            "fillpattern": {
             "fillmode": "overlay",
             "size": 10,
             "solidity": 0.2
            },
            "type": "scatter"
           }
          ],
          "scatter3d": [
           {
            "line": {
             "colorbar": {
              "outlinewidth": 0,
              "ticks": ""
             }
            },
            "marker": {
             "colorbar": {
              "outlinewidth": 0,
              "ticks": ""
             }
            },
            "type": "scatter3d"
           }
          ],
          "scattercarpet": [
           {
            "marker": {
             "colorbar": {
              "outlinewidth": 0,
              "ticks": ""
             }
            },
            "type": "scattercarpet"
           }
          ],
          "scattergeo": [
           {
            "marker": {
             "colorbar": {
              "outlinewidth": 0,
              "ticks": ""
             }
            },
            "type": "scattergeo"
           }
          ],
          "scattergl": [
           {
            "marker": {
             "colorbar": {
              "outlinewidth": 0,
              "ticks": ""
             }
            },
            "type": "scattergl"
           }
          ],
          "scattermapbox": [
           {
            "marker": {
             "colorbar": {
              "outlinewidth": 0,
              "ticks": ""
             }
            },
            "type": "scattermapbox"
           }
          ],
          "scatterpolar": [
           {
            "marker": {
             "colorbar": {
              "outlinewidth": 0,
              "ticks": ""
             }
            },
            "type": "scatterpolar"
           }
          ],
          "scatterpolargl": [
           {
            "marker": {
             "colorbar": {
              "outlinewidth": 0,
              "ticks": ""
             }
            },
            "type": "scatterpolargl"
           }
          ],
          "scatterternary": [
           {
            "marker": {
             "colorbar": {
              "outlinewidth": 0,
              "ticks": ""
             }
            },
            "type": "scatterternary"
           }
          ],
          "surface": [
           {
            "colorbar": {
             "outlinewidth": 0,
             "ticks": ""
            },
            "colorscale": [
             [
              0,
              "#0d0887"
             ],
             [
              0.1111111111111111,
              "#46039f"
             ],
             [
              0.2222222222222222,
              "#7201a8"
             ],
             [
              0.3333333333333333,
              "#9c179e"
             ],
             [
              0.4444444444444444,
              "#bd3786"
             ],
             [
              0.5555555555555556,
              "#d8576b"
             ],
             [
              0.6666666666666666,
              "#ed7953"
             ],
             [
              0.7777777777777778,
              "#fb9f3a"
             ],
             [
              0.8888888888888888,
              "#fdca26"
             ],
             [
              1,
              "#f0f921"
             ]
            ],
            "type": "surface"
           }
          ],
          "table": [
           {
            "cells": {
             "fill": {
              "color": "#EBF0F8"
             },
             "line": {
              "color": "white"
             }
            },
            "header": {
             "fill": {
              "color": "#C8D4E3"
             },
             "line": {
              "color": "white"
             }
            },
            "type": "table"
           }
          ]
         },
         "layout": {
          "annotationdefaults": {
           "arrowcolor": "#2a3f5f",
           "arrowhead": 0,
           "arrowwidth": 1
          },
          "autotypenumbers": "strict",
          "coloraxis": {
           "colorbar": {
            "outlinewidth": 0,
            "ticks": ""
           }
          },
          "colorscale": {
           "diverging": [
            [
             0,
             "#8e0152"
            ],
            [
             0.1,
             "#c51b7d"
            ],
            [
             0.2,
             "#de77ae"
            ],
            [
             0.3,
             "#f1b6da"
            ],
            [
             0.4,
             "#fde0ef"
            ],
            [
             0.5,
             "#f7f7f7"
            ],
            [
             0.6,
             "#e6f5d0"
            ],
            [
             0.7,
             "#b8e186"
            ],
            [
             0.8,
             "#7fbc41"
            ],
            [
             0.9,
             "#4d9221"
            ],
            [
             1,
             "#276419"
            ]
           ],
           "sequential": [
            [
             0,
             "#0d0887"
            ],
            [
             0.1111111111111111,
             "#46039f"
            ],
            [
             0.2222222222222222,
             "#7201a8"
            ],
            [
             0.3333333333333333,
             "#9c179e"
            ],
            [
             0.4444444444444444,
             "#bd3786"
            ],
            [
             0.5555555555555556,
             "#d8576b"
            ],
            [
             0.6666666666666666,
             "#ed7953"
            ],
            [
             0.7777777777777778,
             "#fb9f3a"
            ],
            [
             0.8888888888888888,
             "#fdca26"
            ],
            [
             1,
             "#f0f921"
            ]
           ],
           "sequentialminus": [
            [
             0,
             "#0d0887"
            ],
            [
             0.1111111111111111,
             "#46039f"
            ],
            [
             0.2222222222222222,
             "#7201a8"
            ],
            [
             0.3333333333333333,
             "#9c179e"
            ],
            [
             0.4444444444444444,
             "#bd3786"
            ],
            [
             0.5555555555555556,
             "#d8576b"
            ],
            [
             0.6666666666666666,
             "#ed7953"
            ],
            [
             0.7777777777777778,
             "#fb9f3a"
            ],
            [
             0.8888888888888888,
             "#fdca26"
            ],
            [
             1,
             "#f0f921"
            ]
           ]
          },
          "colorway": [
           "#636efa",
           "#EF553B",
           "#00cc96",
           "#ab63fa",
           "#FFA15A",
           "#19d3f3",
           "#FF6692",
           "#B6E880",
           "#FF97FF",
           "#FECB52"
          ],
          "font": {
           "color": "#2a3f5f"
          },
          "geo": {
           "bgcolor": "white",
           "lakecolor": "white",
           "landcolor": "#E5ECF6",
           "showlakes": true,
           "showland": true,
           "subunitcolor": "white"
          },
          "hoverlabel": {
           "align": "left"
          },
          "hovermode": "closest",
          "mapbox": {
           "style": "light"
          },
          "paper_bgcolor": "white",
          "plot_bgcolor": "#E5ECF6",
          "polar": {
           "angularaxis": {
            "gridcolor": "white",
            "linecolor": "white",
            "ticks": ""
           },
           "bgcolor": "#E5ECF6",
           "radialaxis": {
            "gridcolor": "white",
            "linecolor": "white",
            "ticks": ""
           }
          },
          "scene": {
           "xaxis": {
            "backgroundcolor": "#E5ECF6",
            "gridcolor": "white",
            "gridwidth": 2,
            "linecolor": "white",
            "showbackground": true,
            "ticks": "",
            "zerolinecolor": "white"
           },
           "yaxis": {
            "backgroundcolor": "#E5ECF6",
            "gridcolor": "white",
            "gridwidth": 2,
            "linecolor": "white",
            "showbackground": true,
            "ticks": "",
            "zerolinecolor": "white"
           },
           "zaxis": {
            "backgroundcolor": "#E5ECF6",
            "gridcolor": "white",
            "gridwidth": 2,
            "linecolor": "white",
            "showbackground": true,
            "ticks": "",
            "zerolinecolor": "white"
           }
          },
          "shapedefaults": {
           "line": {
            "color": "#2a3f5f"
           }
          },
          "ternary": {
           "aaxis": {
            "gridcolor": "white",
            "linecolor": "white",
            "ticks": ""
           },
           "baxis": {
            "gridcolor": "white",
            "linecolor": "white",
            "ticks": ""
           },
           "bgcolor": "#E5ECF6",
           "caxis": {
            "gridcolor": "white",
            "linecolor": "white",
            "ticks": ""
           }
          },
          "title": {
           "x": 0.05
          },
          "xaxis": {
           "automargin": true,
           "gridcolor": "white",
           "linecolor": "white",
           "ticks": "",
           "title": {
            "standoff": 15
           },
           "zerolinecolor": "white",
           "zerolinewidth": 2
          },
          "yaxis": {
           "automargin": true,
           "gridcolor": "white",
           "linecolor": "white",
           "ticks": "",
           "title": {
            "standoff": 15
           },
           "zerolinecolor": "white",
           "zerolinewidth": 2
          }
         }
        },
        "xaxis": {
         "anchor": "y",
         "domain": [
          0,
          1
         ],
         "title": {
          "text": "x"
         }
        },
        "yaxis": {
         "anchor": "x",
         "domain": [
          0,
          1
         ],
         "title": {
          "text": "y"
         }
        }
       }
      }
     },
     "metadata": {},
     "output_type": "display_data"
    }
   ],
   "source": [
    "# Graficar los embedddings en 2D\n",
    "import plotly.graph_objects as go\n",
    "import plotly.express as px\n",
    "\n",
    "vecs, labels = reduce_dimensions(w2v_model)\n",
    "\n",
    "MAX_WORDS=105\n",
    "fig = px.scatter(x=vecs[:MAX_WORDS,0], y=vecs[:MAX_WORDS,1], text=labels[:MAX_WORDS])\n",
    "#fig.show(renderer=\"colab\") # esto para plotly en colab\n",
    "fig.show()\n",
    "\n",
    "# Se puede observar en el primer cuadrante (arriba a la derecha) que están las palabras \"capuleto\" y \"montesco\".\n",
    "# Sin embargo, \"romeo\" está también en el primer cuadrante, mientras que \"julieta\" está abajo de todo al centro."
   ]
  },
  {
   "cell_type": "code",
   "execution_count": 27,
   "metadata": {},
   "outputs": [
    {
     "data": {
      "application/vnd.plotly.v1+json": {
       "config": {
        "plotlyServerURL": "https://plot.ly"
       },
       "data": [
        {
         "hovertemplate": "x=%{x}<br>y=%{y}<br>z=%{z}<br>text=%{text}<extra></extra>",
         "legendgroup": "",
         "marker": {
          "color": "#636efa",
          "size": 2,
          "symbol": "circle"
         },
         "mode": "markers+text",
         "name": "",
         "scene": "scene",
         "showlegend": false,
         "text": [
          "de",
          "que",
          "y",
          "la",
          "á",
          "el",
          "no",
          "en",
          "es",
          "mi",
          "con",
          "me",
          "por",
          "los",
          "un",
          "te",
          "su",
          "yo",
          "se",
          "si",
          "lo",
          "romeo",
          "las",
          "del",
          "tu",
          "más",
          "para",
          "una",
          "al",
          "como",
          "fray",
          "tan",
          "qué",
          "lorenzo",
          "pero",
          "amor",
          "ha",
          "ya",
          "le",
          "capuleto",
          "tú",
          "muerte",
          "julieta",
          "está",
          "mis",
          "señora",
          "esta",
          "teobaldo",
          "noche",
          "ni",
          "sus",
          "porque",
          "ó",
          "aquí",
          "¿y",
          "¿qué",
          "ama",
          "os",
          "ella",
          "dios",
          "mio",
          "sin",
          "cuando",
          "bien",
          "este",
          "he",
          "él",
          "tus",
          "sí",
          "mia",
          "páris",
          "pues",
          "ahora",
          "padre",
          "ese",
          "antes",
          "son",
          "todo",
          "casa",
          "eso",
          "voy",
          "quien",
          "mí",
          "dia",
          "ojos",
          "sólo",
          "esa",
          "¿por",
          "muerto",
          "criado",
          "nada",
          "nombre",
          "todos",
          "dos",
          "mismo",
          "tal",
          "escena",
          "hace",
          "1",
          "mercutio",
          "¡qué",
          "cómo",
          "hija",
          "montesco",
          "otro"
         ],
         "type": "scatter3d",
         "x": [
          1.9700278043746948,
          -20.186731338500977,
          -3.542896032333374,
          -21.29218292236328,
          -21.81058692932129,
          20.884380340576172,
          -7.305620193481445,
          1.1364400386810303,
          11.013031959533691,
          24.62753677368164,
          -6.233119010925293,
          -34.15048599243164,
          13.019085884094238,
          23.23137664794922,
          19.314420700073242,
          -5.3751726150512695,
          21.204647064208984,
          -13.0166015625,
          -16.848922729492188,
          -10.606383323669434,
          -10.376399040222168,
          -18.035757064819336,
          25.996929168701172,
          23.427114486694336,
          18.020370483398438,
          -13.706640243530273,
          -15.147881507873535,
          -31.776132583618164,
          24.89381217956543,
          6.534750938415527,
          -3.310763359069824,
          15.038714408874512,
          30.446229934692383,
          -17.560569763183594,
          -20.629859924316406,
          5.352266788482666,
          -1.6187487840652466,
          -22.338272094726562,
          -35.69041061401367,
          18.322837829589844,
          -2.6596360206604004,
          -22.47881317138672,
          5.688088417053223,
          27.843360900878906,
          5.464100360870361,
          20.508575439453125,
          -34.16120529174805,
          -19.082792282104492,
          -25.18294334411621,
          -5.363101959228516,
          7.1669440269470215,
          -27.119003295898438,
          -23.030839920043945,
          -18.929672241210938,
          16.308162689208984,
          34.348045349121094,
          32.668304443359375,
          -28.04670524597168,
          -6.144859313964844,
          2.4883642196655273,
          30.28075408935547,
          -21.676904678344727,
          21.43256950378418,
          -2.2828447818756104,
          15.082548141479492,
          15.257438659667969,
          1.2251954078674316,
          9.31458568572998,
          -9.192229270935059,
          25.826366424560547,
          -6.098814487457275,
          9.120052337646484,
          -25.16465950012207,
          25.96628189086914,
          22.89853286743164,
          -27.246490478515625,
          13.663372993469238,
          -21.86555290222168,
          20.211301803588867,
          25.95289421081543,
          -16.629230499267578,
          28.759536743164062,
          11.86519718170166,
          32.99189758300781,
          -0.313169002532959,
          -31.5273380279541,
          -8.762989044189453,
          19.029399871826172,
          -15.049501419067383,
          31.55425453186035,
          -5.189100742340088,
          24.135522842407227,
          8.739789009094238,
          -25.33307647705078,
          -26.81988525390625,
          -0.7034815549850464,
          17.591995239257812,
          -17.127338409423828,
          22.09182357788086,
          -15.923068046569824,
          28.618520736694336,
          28.98008918762207,
          23.46165657043457,
          11.305041313171387,
          6.412196159362793
         ],
         "y": [
          -35.250919342041016,
          23.290746688842773,
          -33.751705169677734,
          -15.829280853271484,
          -7.944748878479004,
          -34.89918899536133,
          32.77036666870117,
          -28.89927101135254,
          32.26664352416992,
          -31.61457061767578,
          -34.80398178100586,
          11.299005508422852,
          9.067099571228027,
          -17.40056037902832,
          21.247169494628906,
          37.73341751098633,
          -36.52462387084961,
          20.58030891418457,
          -15.771336555480957,
          -1.7642337083816528,
          41.30093765258789,
          -4.626526832580566,
          -12.572490692138672,
          -15.35517406463623,
          -31.63941764831543,
          37.75601577758789,
          26.078706741333008,
          0.591920793056488,
          -23.24925994873047,
          -28.47264862060547,
          -36.11482620239258,
          25.994218826293945,
          15.355103492736816,
          -30.805644989013672,
          3.3880362510681152,
          -23.580554962158203,
          15.533140182495117,
          14.476763725280762,
          7.472223281860352,
          -37.01809310913086,
          26.418359756469727,
          0.894557535648346,
          3.168491840362549,
          -29.49920082092285,
          -28.178041458129883,
          -28.22821807861328,
          -4.488198280334473,
          -10.449048042297363,
          3.745117425918579,
          34.527671813964844,
          -30.564687728881836,
          2.8209948539733887,
          -19.028648376464844,
          -6.436097621917725,
          31.45965576171875,
          16.856847763061523,
          6.707135200500488,
          25.130661010742188,
          -19.031219482421875,
          43.62899398803711,
          21.70624542236328,
          17.69977378845215,
          -2.5958468914031982,
          43.43187713623047,
          -16.66429901123047,
          25.593427658081055,
          -7.27656364440918,
          -27.865570068359375,
          40.61896896362305,
          21.450849533081055,
          -35.2333984375,
          -2.1682920455932617,
          20.44133758544922,
          -9.763164520263672,
          -30.565101623535156,
          -6.042400360107422,
          -19.292104721069336,
          11.9590425491333,
          -31.68158531188965,
          19.890125274658203,
          -30.384273529052734,
          -14.47677993774414,
          -16.643606185913086,
          -7.752342224121094,
          -33.18134307861328,
          -0.3054715394973755,
          28.598388671875,
          32.610260009765625,
          -8.177056312561035,
          7.318724632263184,
          36.275787353515625,
          -16.871740341186523,
          -17.271936416625977,
          15.23985767364502,
          15.763908386230469,
          32.94133758544922,
          -21.808561325073242,
          33.220726013183594,
          1.658586025238037,
          -13.941011428833008,
          10.178079605102539,
          12.246343612670898,
          -15.283811569213867,
          -33.304931640625,
          25.731433868408203
         ],
         "z": [
          -9.115421295166016,
          -11.687814712524414,
          -10.433305740356445,
          -1.583421230316162,
          -21.537397384643555,
          -13.443325996398926,
          16.323246002197266,
          -16.274150848388672,
          8.737424850463867,
          -5.538163185119629,
          -13.7321195602417,
          6.260077476501465,
          -16.922006607055664,
          -29.259592056274414,
          -10.154535293579102,
          18.403165817260742,
          -7.952131748199463,
          -7.437106609344482,
          20.091543197631836,
          25.40395164489746,
          16.96834373474121,
          -33.26632308959961,
          -22.357004165649414,
          -24.1955509185791,
          -6.663957595825195,
          -3.5523681640625,
          14.025262832641602,
          13.109400749206543,
          -17.607101440429688,
          -18.592369079589844,
          -21.179576873779297,
          -3.046196460723877,
          21.379241943359375,
          20.06113624572754,
          26.14252281188965,
          -9.843013763427734,
          -21.48573112487793,
          -3.076291799545288,
          6.013436794281006,
          -3.1447153091430664,
          26.502613067626953,
          -19.834001541137695,
          34.04115295410156,
          -3.6864492893218994,
          -31.798810958862305,
          13.642029762268066,
          12.521031379699707,
          -34.263214111328125,
          -22.329147338867188,
          -14.31827449798584,
          -28.164953231811523,
          -11.235057830810547,
          -11.918098449707031,
          21.54389190673828,
          20.370304107666016,
          11.987127304077148,
          12.114726066589355,
          1.8666294813156128,
          27.480974197387695,
          0.7998483180999756,
          8.043136596679688,
          -16.28693962097168,
          5.533455848693848,
          2.0458054542541504,
          20.93055534362793,
          26.636852264404297,
          27.696992874145508,
          -31.04226303100586,
          -0.6078071594238281,
          -3.872398853302002,
          -6.773265361785889,
          23.78377914428711,
          8.292519569396973,
          20.574077606201172,
          -15.406784057617188,
          -16.266326904296875,
          -27.313800811767578,
          24.94886016845703,
          8.110356330871582,
          3.2488722801208496,
          -13.598421096801758,
          18.770050048828125,
          13.792184829711914,
          -3.6856770515441895,
          -25.203624725341797,
          -0.11079248785972595,
          19.797697067260742,
          22.978771209716797,
          -30.94736099243164,
          -12.469693183898926,
          -8.849156379699707,
          1.7482117414474487,
          -29.24810218811035,
          -11.342862129211426,
          12.64796257019043,
          23.200275421142578,
          11.880370140075684,
          3.6218788623809814,
          -29.356290817260742,
          -35.77528762817383,
          -0.5446396470069885,
          15.026860237121582,
          9.302894592285156,
          -4.909492015838623,
          20.344255447387695
         ]
        }
       ],
       "layout": {
        "legend": {
         "tracegroupgap": 0
        },
        "margin": {
         "t": 60
        },
        "scene": {
         "domain": {
          "x": [
           0,
           1
          ],
          "y": [
           0,
           1
          ]
         },
         "xaxis": {
          "title": {
           "text": "x"
          }
         },
         "yaxis": {
          "title": {
           "text": "y"
          }
         },
         "zaxis": {
          "title": {
           "text": "z"
          }
         }
        },
        "template": {
         "data": {
          "bar": [
           {
            "error_x": {
             "color": "#2a3f5f"
            },
            "error_y": {
             "color": "#2a3f5f"
            },
            "marker": {
             "line": {
              "color": "#E5ECF6",
              "width": 0.5
             },
             "pattern": {
              "fillmode": "overlay",
              "size": 10,
              "solidity": 0.2
             }
            },
            "type": "bar"
           }
          ],
          "barpolar": [
           {
            "marker": {
             "line": {
              "color": "#E5ECF6",
              "width": 0.5
             },
             "pattern": {
              "fillmode": "overlay",
              "size": 10,
              "solidity": 0.2
             }
            },
            "type": "barpolar"
           }
          ],
          "carpet": [
           {
            "aaxis": {
             "endlinecolor": "#2a3f5f",
             "gridcolor": "white",
             "linecolor": "white",
             "minorgridcolor": "white",
             "startlinecolor": "#2a3f5f"
            },
            "baxis": {
             "endlinecolor": "#2a3f5f",
             "gridcolor": "white",
             "linecolor": "white",
             "minorgridcolor": "white",
             "startlinecolor": "#2a3f5f"
            },
            "type": "carpet"
           }
          ],
          "choropleth": [
           {
            "colorbar": {
             "outlinewidth": 0,
             "ticks": ""
            },
            "type": "choropleth"
           }
          ],
          "contour": [
           {
            "colorbar": {
             "outlinewidth": 0,
             "ticks": ""
            },
            "colorscale": [
             [
              0,
              "#0d0887"
             ],
             [
              0.1111111111111111,
              "#46039f"
             ],
             [
              0.2222222222222222,
              "#7201a8"
             ],
             [
              0.3333333333333333,
              "#9c179e"
             ],
             [
              0.4444444444444444,
              "#bd3786"
             ],
             [
              0.5555555555555556,
              "#d8576b"
             ],
             [
              0.6666666666666666,
              "#ed7953"
             ],
             [
              0.7777777777777778,
              "#fb9f3a"
             ],
             [
              0.8888888888888888,
              "#fdca26"
             ],
             [
              1,
              "#f0f921"
             ]
            ],
            "type": "contour"
           }
          ],
          "contourcarpet": [
           {
            "colorbar": {
             "outlinewidth": 0,
             "ticks": ""
            },
            "type": "contourcarpet"
           }
          ],
          "heatmap": [
           {
            "colorbar": {
             "outlinewidth": 0,
             "ticks": ""
            },
            "colorscale": [
             [
              0,
              "#0d0887"
             ],
             [
              0.1111111111111111,
              "#46039f"
             ],
             [
              0.2222222222222222,
              "#7201a8"
             ],
             [
              0.3333333333333333,
              "#9c179e"
             ],
             [
              0.4444444444444444,
              "#bd3786"
             ],
             [
              0.5555555555555556,
              "#d8576b"
             ],
             [
              0.6666666666666666,
              "#ed7953"
             ],
             [
              0.7777777777777778,
              "#fb9f3a"
             ],
             [
              0.8888888888888888,
              "#fdca26"
             ],
             [
              1,
              "#f0f921"
             ]
            ],
            "type": "heatmap"
           }
          ],
          "heatmapgl": [
           {
            "colorbar": {
             "outlinewidth": 0,
             "ticks": ""
            },
            "colorscale": [
             [
              0,
              "#0d0887"
             ],
             [
              0.1111111111111111,
              "#46039f"
             ],
             [
              0.2222222222222222,
              "#7201a8"
             ],
             [
              0.3333333333333333,
              "#9c179e"
             ],
             [
              0.4444444444444444,
              "#bd3786"
             ],
             [
              0.5555555555555556,
              "#d8576b"
             ],
             [
              0.6666666666666666,
              "#ed7953"
             ],
             [
              0.7777777777777778,
              "#fb9f3a"
             ],
             [
              0.8888888888888888,
              "#fdca26"
             ],
             [
              1,
              "#f0f921"
             ]
            ],
            "type": "heatmapgl"
           }
          ],
          "histogram": [
           {
            "marker": {
             "pattern": {
              "fillmode": "overlay",
              "size": 10,
              "solidity": 0.2
             }
            },
            "type": "histogram"
           }
          ],
          "histogram2d": [
           {
            "colorbar": {
             "outlinewidth": 0,
             "ticks": ""
            },
            "colorscale": [
             [
              0,
              "#0d0887"
             ],
             [
              0.1111111111111111,
              "#46039f"
             ],
             [
              0.2222222222222222,
              "#7201a8"
             ],
             [
              0.3333333333333333,
              "#9c179e"
             ],
             [
              0.4444444444444444,
              "#bd3786"
             ],
             [
              0.5555555555555556,
              "#d8576b"
             ],
             [
              0.6666666666666666,
              "#ed7953"
             ],
             [
              0.7777777777777778,
              "#fb9f3a"
             ],
             [
              0.8888888888888888,
              "#fdca26"
             ],
             [
              1,
              "#f0f921"
             ]
            ],
            "type": "histogram2d"
           }
          ],
          "histogram2dcontour": [
           {
            "colorbar": {
             "outlinewidth": 0,
             "ticks": ""
            },
            "colorscale": [
             [
              0,
              "#0d0887"
             ],
             [
              0.1111111111111111,
              "#46039f"
             ],
             [
              0.2222222222222222,
              "#7201a8"
             ],
             [
              0.3333333333333333,
              "#9c179e"
             ],
             [
              0.4444444444444444,
              "#bd3786"
             ],
             [
              0.5555555555555556,
              "#d8576b"
             ],
             [
              0.6666666666666666,
              "#ed7953"
             ],
             [
              0.7777777777777778,
              "#fb9f3a"
             ],
             [
              0.8888888888888888,
              "#fdca26"
             ],
             [
              1,
              "#f0f921"
             ]
            ],
            "type": "histogram2dcontour"
           }
          ],
          "mesh3d": [
           {
            "colorbar": {
             "outlinewidth": 0,
             "ticks": ""
            },
            "type": "mesh3d"
           }
          ],
          "parcoords": [
           {
            "line": {
             "colorbar": {
              "outlinewidth": 0,
              "ticks": ""
             }
            },
            "type": "parcoords"
           }
          ],
          "pie": [
           {
            "automargin": true,
            "type": "pie"
           }
          ],
          "scatter": [
           {
            "fillpattern": {
             "fillmode": "overlay",
             "size": 10,
             "solidity": 0.2
            },
            "type": "scatter"
           }
          ],
          "scatter3d": [
           {
            "line": {
             "colorbar": {
              "outlinewidth": 0,
              "ticks": ""
             }
            },
            "marker": {
             "colorbar": {
              "outlinewidth": 0,
              "ticks": ""
             }
            },
            "type": "scatter3d"
           }
          ],
          "scattercarpet": [
           {
            "marker": {
             "colorbar": {
              "outlinewidth": 0,
              "ticks": ""
             }
            },
            "type": "scattercarpet"
           }
          ],
          "scattergeo": [
           {
            "marker": {
             "colorbar": {
              "outlinewidth": 0,
              "ticks": ""
             }
            },
            "type": "scattergeo"
           }
          ],
          "scattergl": [
           {
            "marker": {
             "colorbar": {
              "outlinewidth": 0,
              "ticks": ""
             }
            },
            "type": "scattergl"
           }
          ],
          "scattermapbox": [
           {
            "marker": {
             "colorbar": {
              "outlinewidth": 0,
              "ticks": ""
             }
            },
            "type": "scattermapbox"
           }
          ],
          "scatterpolar": [
           {
            "marker": {
             "colorbar": {
              "outlinewidth": 0,
              "ticks": ""
             }
            },
            "type": "scatterpolar"
           }
          ],
          "scatterpolargl": [
           {
            "marker": {
             "colorbar": {
              "outlinewidth": 0,
              "ticks": ""
             }
            },
            "type": "scatterpolargl"
           }
          ],
          "scatterternary": [
           {
            "marker": {
             "colorbar": {
              "outlinewidth": 0,
              "ticks": ""
             }
            },
            "type": "scatterternary"
           }
          ],
          "surface": [
           {
            "colorbar": {
             "outlinewidth": 0,
             "ticks": ""
            },
            "colorscale": [
             [
              0,
              "#0d0887"
             ],
             [
              0.1111111111111111,
              "#46039f"
             ],
             [
              0.2222222222222222,
              "#7201a8"
             ],
             [
              0.3333333333333333,
              "#9c179e"
             ],
             [
              0.4444444444444444,
              "#bd3786"
             ],
             [
              0.5555555555555556,
              "#d8576b"
             ],
             [
              0.6666666666666666,
              "#ed7953"
             ],
             [
              0.7777777777777778,
              "#fb9f3a"
             ],
             [
              0.8888888888888888,
              "#fdca26"
             ],
             [
              1,
              "#f0f921"
             ]
            ],
            "type": "surface"
           }
          ],
          "table": [
           {
            "cells": {
             "fill": {
              "color": "#EBF0F8"
             },
             "line": {
              "color": "white"
             }
            },
            "header": {
             "fill": {
              "color": "#C8D4E3"
             },
             "line": {
              "color": "white"
             }
            },
            "type": "table"
           }
          ]
         },
         "layout": {
          "annotationdefaults": {
           "arrowcolor": "#2a3f5f",
           "arrowhead": 0,
           "arrowwidth": 1
          },
          "autotypenumbers": "strict",
          "coloraxis": {
           "colorbar": {
            "outlinewidth": 0,
            "ticks": ""
           }
          },
          "colorscale": {
           "diverging": [
            [
             0,
             "#8e0152"
            ],
            [
             0.1,
             "#c51b7d"
            ],
            [
             0.2,
             "#de77ae"
            ],
            [
             0.3,
             "#f1b6da"
            ],
            [
             0.4,
             "#fde0ef"
            ],
            [
             0.5,
             "#f7f7f7"
            ],
            [
             0.6,
             "#e6f5d0"
            ],
            [
             0.7,
             "#b8e186"
            ],
            [
             0.8,
             "#7fbc41"
            ],
            [
             0.9,
             "#4d9221"
            ],
            [
             1,
             "#276419"
            ]
           ],
           "sequential": [
            [
             0,
             "#0d0887"
            ],
            [
             0.1111111111111111,
             "#46039f"
            ],
            [
             0.2222222222222222,
             "#7201a8"
            ],
            [
             0.3333333333333333,
             "#9c179e"
            ],
            [
             0.4444444444444444,
             "#bd3786"
            ],
            [
             0.5555555555555556,
             "#d8576b"
            ],
            [
             0.6666666666666666,
             "#ed7953"
            ],
            [
             0.7777777777777778,
             "#fb9f3a"
            ],
            [
             0.8888888888888888,
             "#fdca26"
            ],
            [
             1,
             "#f0f921"
            ]
           ],
           "sequentialminus": [
            [
             0,
             "#0d0887"
            ],
            [
             0.1111111111111111,
             "#46039f"
            ],
            [
             0.2222222222222222,
             "#7201a8"
            ],
            [
             0.3333333333333333,
             "#9c179e"
            ],
            [
             0.4444444444444444,
             "#bd3786"
            ],
            [
             0.5555555555555556,
             "#d8576b"
            ],
            [
             0.6666666666666666,
             "#ed7953"
            ],
            [
             0.7777777777777778,
             "#fb9f3a"
            ],
            [
             0.8888888888888888,
             "#fdca26"
            ],
            [
             1,
             "#f0f921"
            ]
           ]
          },
          "colorway": [
           "#636efa",
           "#EF553B",
           "#00cc96",
           "#ab63fa",
           "#FFA15A",
           "#19d3f3",
           "#FF6692",
           "#B6E880",
           "#FF97FF",
           "#FECB52"
          ],
          "font": {
           "color": "#2a3f5f"
          },
          "geo": {
           "bgcolor": "white",
           "lakecolor": "white",
           "landcolor": "#E5ECF6",
           "showlakes": true,
           "showland": true,
           "subunitcolor": "white"
          },
          "hoverlabel": {
           "align": "left"
          },
          "hovermode": "closest",
          "mapbox": {
           "style": "light"
          },
          "paper_bgcolor": "white",
          "plot_bgcolor": "#E5ECF6",
          "polar": {
           "angularaxis": {
            "gridcolor": "white",
            "linecolor": "white",
            "ticks": ""
           },
           "bgcolor": "#E5ECF6",
           "radialaxis": {
            "gridcolor": "white",
            "linecolor": "white",
            "ticks": ""
           }
          },
          "scene": {
           "xaxis": {
            "backgroundcolor": "#E5ECF6",
            "gridcolor": "white",
            "gridwidth": 2,
            "linecolor": "white",
            "showbackground": true,
            "ticks": "",
            "zerolinecolor": "white"
           },
           "yaxis": {
            "backgroundcolor": "#E5ECF6",
            "gridcolor": "white",
            "gridwidth": 2,
            "linecolor": "white",
            "showbackground": true,
            "ticks": "",
            "zerolinecolor": "white"
           },
           "zaxis": {
            "backgroundcolor": "#E5ECF6",
            "gridcolor": "white",
            "gridwidth": 2,
            "linecolor": "white",
            "showbackground": true,
            "ticks": "",
            "zerolinecolor": "white"
           }
          },
          "shapedefaults": {
           "line": {
            "color": "#2a3f5f"
           }
          },
          "ternary": {
           "aaxis": {
            "gridcolor": "white",
            "linecolor": "white",
            "ticks": ""
           },
           "baxis": {
            "gridcolor": "white",
            "linecolor": "white",
            "ticks": ""
           },
           "bgcolor": "#E5ECF6",
           "caxis": {
            "gridcolor": "white",
            "linecolor": "white",
            "ticks": ""
           }
          },
          "title": {
           "x": 0.05
          },
          "xaxis": {
           "automargin": true,
           "gridcolor": "white",
           "linecolor": "white",
           "ticks": "",
           "title": {
            "standoff": 15
           },
           "zerolinecolor": "white",
           "zerolinewidth": 2
          },
          "yaxis": {
           "automargin": true,
           "gridcolor": "white",
           "linecolor": "white",
           "ticks": "",
           "title": {
            "standoff": 15
           },
           "zerolinecolor": "white",
           "zerolinewidth": 2
          }
         }
        }
       }
      }
     },
     "metadata": {},
     "output_type": "display_data"
    }
   ],
   "source": [
    "# Graficar los embedddings en 3D\n",
    "\n",
    "vecs, labels = reduce_dimensions(w2v_model,3)\n",
    "\n",
    "fig = px.scatter_3d(x=vecs[:MAX_WORDS,0], y=vecs[:MAX_WORDS,1], z=vecs[:MAX_WORDS,2],text=labels[:MAX_WORDS])\n",
    "fig.update_traces(marker_size = 2)\n",
    "#fig.show(renderer=\"colab\") # esto para plotly en colab\n",
    "fig.show()"
   ]
  },
  {
   "cell_type": "code",
   "execution_count": 28,
   "metadata": {},
   "outputs": [],
   "source": [
    "# También se pueden guardar los vectores y labels como tsv para graficar en\n",
    "# http://projector.tensorflow.org/\n",
    "\n",
    "\n",
    "vectors = np.asarray(w2v_model.wv.vectors)\n",
    "labels = list(w2v_model.wv.index_to_key)\n",
    "\n",
    "np.savetxt(\"vectors.tsv\", vectors, delimiter=\"\\t\")\n",
    "\n",
    "with open(\"labels.tsv\", \"w\") as fp:\n",
    "    for item in labels:\n",
    "        fp.write(\"%s\\n\" % item)"
   ]
  },
  {
   "cell_type": "markdown",
   "metadata": {
    "id": "yMM_SHSaZ9N-"
   },
   "source": [
    "### Alumno"
   ]
  },
  {
   "cell_type": "markdown",
   "metadata": {
    "id": "WivQZ3ZCZ9N_"
   },
   "source": [
    "- Crear sus propios vectores con Gensim basado en lo visto en clase con otro dataset.\n",
    "- Probar términos de interés y explicar similitudes en el espacio de embeddings (sacar conclusiones entre palabras similitudes y diferencias).\n",
    "- Graficarlos.\n",
    "- Obtener conclusiones."
   ]
  },
  {
   "cell_type": "markdown",
   "metadata": {},
   "source": [
    "# Conclusiones\n",
    "\n",
    "Se crearon vectores de palabras con Gensin aplicados al modelo Skip-gram.\n",
    "Se evaluó el texto de Romeo y Julieta.\n",
    "Se obtuvieron representaciones gráficas del modelo.\n",
    "Se prestó especial interés en las palabras \"romeo\", \"julieta\", \"montesco\" y \"capuleto\", buscando encontrar una relación entre los nombres y los apellidos de los personajes.\n",
    "Algunas conclusiones de lo probado son que las palabras \"montesco\" y \"capuleto\" se encuentran muy cercanas en el gráfico, pero no tan cerca en el valor de similaridad (~0,74).\n",
    "Por el contrario, aunque las palabras \"romeo\" y \"julieta\" tienen una gran similitud (~0,91), se encuentran alejadas en el gráfico, lo que puede significar que se usan en contextos diferentes a lo largo del texto.\n",
    "Estas separaciones pueden deberse a limitaciones del modelo y al tamaño del corpus."
   ]
  }
 ],
 "metadata": {
  "colab": {
   "collapsed_sections": [],
   "provenance": []
  },
  "kernelspec": {
   "display_name": "Python 3 (ipykernel)",
   "language": "python",
   "name": "python3"
  },
  "language_info": {
   "codemirror_mode": {
    "name": "ipython",
    "version": 3
   },
   "file_extension": ".py",
   "mimetype": "text/x-python",
   "name": "python",
   "nbconvert_exporter": "python",
   "pygments_lexer": "ipython3",
   "version": "3.10.12"
  }
 },
 "nbformat": 4,
 "nbformat_minor": 4
}
